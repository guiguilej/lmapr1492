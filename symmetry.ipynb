{
 "cells": [
  {
   "cell_type": "code",
   "execution_count": 42,
   "metadata": {},
   "outputs": [],
   "source": [
    "from pymatgen.ext.matproj import MPRester\n",
    "from pymatgen.core.operations import SymmOp\n",
    "from IPython.display import Image\n",
    "\n",
    "with MPRester(\"73pliZvNbI25Rdqk\") as m:\n",
    "    structure = m.get_structure_by_material_id(\"mp-1023935\")\n",
    "\n"
   ]
  },
  {
   "cell_type": "code",
   "execution_count": 45,
   "metadata": {},
   "outputs": [
    {
     "name": "stdout",
     "output_type": "stream",
     "text": [
      "1) 6bar axis applique sur l atome 1\n",
      "\n",
      "matrice de rotation\n",
      "[[-1.  1.  0.]\n",
      " [-1.  0.  0.]\n",
      " [ 0.  0. -1.]]\n",
      "\n",
      "vecteur de translation\n",
      "[0. 0. 0.]\n",
      "\n",
      "position de l atome apres avoir applique la symetrie\n",
      "[ 0.33333333 -0.33333333 -0.9       ]\n"
     ]
    }
   ],
   "source": [
    "Sym1 = SymmOp.from_xyz_string(\"-x+y,-x,-z\")\n",
    "print(\"1) 6bar axis applique sur l atome 1\")\n",
    "print(\"\")\n",
    "print(\"matrice de rotation\")\n",
    "print(Sym1.rotation_matrix)\n",
    "print(\"\")\n",
    "print(\"vecteur de translation\")\n",
    "print(Sym1.translation_vector)\n",
    "print(\"\")\n",
    "print(\"position de l atome apres avoir applique la symetrie\")\n",
    "print(Sym1.operate((1/3,2/3,0.9)))\n",
    "#Image(\"img/sym1.png\")\n"
   ]
  },
  {
   "cell_type": "code",
   "execution_count": 44,
   "metadata": {},
   "outputs": [
    {
     "data": {
      "text/latex": [
       "\\begin{equation}\n",
       "\\begin{pmatrix} -1 & 1 & 0\\\\ -1 & 0 & 0 \\\\ 0 & 0 & -1\\end{pmatrix}\\begin{pmatrix} x \\\\ y \\\\ z \\end{pmatrix}= \\begin{pmatrix} -x+y\\\\ -x \\\\ -z\\end{pmatrix}\n",
       "\\end{equation}\n"
      ],
      "text/plain": [
       "<IPython.core.display.Latex object>"
      ]
     },
     "metadata": {},
     "output_type": "display_data"
    }
   ],
   "source": [
    "\n",
    "%%latex\n",
    "\\begin{equation}\n",
    "\\begin{pmatrix} -1 & 1 & 0\\\\ -1 & 0 & 0 \\\\ 0 & 0 & -1\\end{pmatrix}\\begin{pmatrix} x \\\\ y \\\\ z \\end{pmatrix}= \\begin{pmatrix} -x+y\\\\ -x \\\\ -z\\end{pmatrix}\n",
    "\\end{equation}"
   ]
  },
  {
   "cell_type": "code",
   "execution_count": 46,
   "metadata": {},
   "outputs": [
    {
     "name": "stdout",
     "output_type": "stream",
     "text": [
      "2) plan miroir applique sur l atome 2\n",
      "\n",
      "matrice de rotation\n",
      "[[ 1.  0.  0.]\n",
      " [ 0.  1.  0.]\n",
      " [ 0.  0. -1.]]\n",
      "\n",
      "vecteur de translation\n",
      "[0. 0. 0.]\n",
      "\n",
      "position de l atome apres avoir applique la symetrie\n",
      "[0. 0. 0.]\n"
     ]
    }
   ],
   "source": [
    "Sym2 = SymmOp.from_xyz_string(\"x,y,-z\")\n",
    "print(\"2) plan miroir applique sur l atome 2\")\n",
    "print(\"\")\n",
    "print(\"matrice de rotation\")\n",
    "print(Sym2.rotation_matrix)\n",
    "print(\"\")\n",
    "print(\"vecteur de translation\")\n",
    "print(Sym2.translation_vector)\n",
    "print(\"\")\n",
    "print(\"position de l atome apres avoir applique la symetrie\")\n",
    "print(Sym2.operate((0,0,0)))\n",
    "#Image(\"img/sym2.png\")"
   ]
  },
  {
   "cell_type": "code",
   "execution_count": 47,
   "metadata": {},
   "outputs": [
    {
     "data": {
      "text/latex": [
       "\\begin{equation}\n",
       "\\begin{pmatrix} 1 & 0 & 0\\\\ 0 & 1 & 0 \\\\ 0 & 0 & -1\\end{pmatrix}\\begin{pmatrix} x \\\\ y \\\\ z \\end{pmatrix}= \\begin{pmatrix} x\\\\ y \\\\ -z\\end{pmatrix}\n",
       "\\end{equation}\n"
      ],
      "text/plain": [
       "<IPython.core.display.Latex object>"
      ]
     },
     "metadata": {},
     "output_type": "display_data"
    }
   ],
   "source": [
    "%%latex\n",
    "\\begin{equation}\n",
    "\\begin{pmatrix} 1 & 0 & 0\\\\ 0 & 1 & 0 \\\\ 0 & 0 & -1\\end{pmatrix}\\begin{pmatrix} x \\\\ y \\\\ z \\end{pmatrix}= \\begin{pmatrix} x\\\\ y \\\\ -z\\end{pmatrix}\n",
    "\\end{equation}"
   ]
  },
  {
   "cell_type": "code",
   "execution_count": 48,
   "metadata": {},
   "outputs": [
    {
     "name": "stdout",
     "output_type": "stream",
     "text": [
      "3) rotation d'ordre 3 selon l'axe C applique sur l atome 8\n",
      "\n",
      "matrice de rotation\n",
      "[[ 0. -1.  0.]\n",
      " [ 1. -1.  0.]\n",
      " [ 0.  0.  1.]]\n",
      "\n",
      "vecteur de translation\n",
      "[0. 0. 0.]\n",
      "\n",
      "position de l atome apres avoir applique la symetrie\n",
      "[-1.  0.  1.]\n"
     ]
    }
   ],
   "source": [
    "Sym3 = SymmOp.from_xyz_string(\"-y,x-y,z\")\n",
    "print(\"3) rotation d'ordre 3 selon l'axe C applique sur l atome 8\")\n",
    "print(\"\")\n",
    "print(\"matrice de rotation\")\n",
    "print(Sym3.rotation_matrix)\n",
    "print(\"\")\n",
    "print(\"vecteur de translation\")\n",
    "print(Sym3.translation_vector)\n",
    "print(\"\")\n",
    "print(\"position de l atome apres avoir applique la symetrie\")\n",
    "print(Sym3.operate((1,1,1)))\n",
    "#Image(\"img/sym3.png\")"
   ]
  },
  {
   "cell_type": "code",
   "execution_count": 49,
   "metadata": {},
   "outputs": [
    {
     "data": {
      "text/latex": [
       "\\begin{equation}\n",
       "\\begin{pmatrix} 0 & -1 & 0\\\\ 1 & -1 & 0 \\\\ 0 & 0 & 1\\end{pmatrix}\\begin{pmatrix} x \\\\ y \\\\ z \\end{pmatrix}= \\begin{pmatrix} -y\\\\ x-y \\\\ z\\end{pmatrix}\n",
       "\\end{equation}\n"
      ],
      "text/plain": [
       "<IPython.core.display.Latex object>"
      ]
     },
     "metadata": {},
     "output_type": "display_data"
    }
   ],
   "source": [
    "%%latex\n",
    "\\begin{equation}\n",
    "\\begin{pmatrix} 0 & -1 & 0\\\\ 1 & -1 & 0 \\\\ 0 & 0 & 1\\end{pmatrix}\\begin{pmatrix} x \\\\ y \\\\ z \\end{pmatrix}= \\begin{pmatrix} -y\\\\ x-y \\\\ z\\end{pmatrix}\n",
    "\\end{equation}"
   ]
  },
  {
   "cell_type": "code",
   "execution_count": null,
   "metadata": {},
   "outputs": [],
   "source": []
  }
 ],
 "metadata": {
  "celltoolbar": "Pièces jointes",
  "kernelspec": {
   "display_name": "Python 3",
   "language": "python",
   "name": "python3"
  },
  "language_info": {
   "codemirror_mode": {
    "name": "ipython",
    "version": 3
   },
   "file_extension": ".py",
   "mimetype": "text/x-python",
   "name": "python",
   "nbconvert_exporter": "python",
   "pygments_lexer": "ipython3",
   "version": "3.6.8"
  }
 },
 "nbformat": 4,
 "nbformat_minor": 2
}
