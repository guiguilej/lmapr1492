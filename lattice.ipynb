{
 "cells": [
  {
   "cell_type": "code",
   "execution_count": 19,
   "metadata": {},
   "outputs": [
    {
     "name": "stdout",
     "output_type": "stream",
     "text": [
      "hexagonal\n",
      "-6m2\n",
      "hexagonal\n",
      "3.558711 0.000000 0.000000\n",
      "-1.779355 3.081934 0.000000\n",
      "0.000000 0.000000 17.673323\n",
      "1.765579 1.019357 0.000000\n",
      "0.000000 2.038715 0.000000\n",
      "0.000000 0.000000 0.355518\n"
     ]
    }
   ],
   "source": [
    "from pymatgen.ext.matproj import MPRester\n",
    "from pymatgen.symmetry.analyzer import SpacegroupAnalyzer\n",
    "from pymatgen.io.cif import CifWriter\n",
    "\n",
    "with MPRester(\"73pliZvNbI25Rdqk\") as m:\n",
    "    structure = m.get_structure_by_material_id(\"mp-1023935\")\n",
    "    w = CifWriter(structure)\n",
    "    w.write_file('Te2Mo_structure.cif')\n",
    "\n",
    "\n",
    "sga = SpacegroupAnalyzer(structure)\n",
    "# systeme cristallin\n",
    "sycr = sga.get_crystal_system()\n",
    "print(sycr)\n",
    "\n",
    "#new_s=sga.get_primitive_standard_structure()\n",
    "#print(new_s)\n",
    "\n",
    "# groupe ponctuel\n",
    "grpo = sga.get_point_group_symbol()\n",
    "print(grpo)\n",
    "\n",
    "# type maille\n",
    "tyma = sga.get_lattice_type()\n",
    "print(tyma)\n",
    "\n",
    "# vecteurs du réseau direct\n",
    "vdir = structure.lattice\n",
    "print(vdir)\n",
    "\n",
    "# vecteurs du réseau réciproque\n",
    "vrec = structure.lattice.reciprocal_lattice\n",
    "print(vrec)"
   ]
  },
  {
   "cell_type": "code",
   "execution_count": null,
   "metadata": {},
   "outputs": [],
   "source": []
  }
 ],
 "metadata": {
  "kernelspec": {
   "display_name": "Python 3",
   "language": "python",
   "name": "python3"
  },
  "language_info": {
   "codemirror_mode": {
    "name": "ipython",
    "version": 3
   },
   "file_extension": ".py",
   "mimetype": "text/x-python",
   "name": "python",
   "nbconvert_exporter": "python",
   "pygments_lexer": "ipython3",
   "version": "3.6.8"
  }
 },
 "nbformat": 4,
 "nbformat_minor": 2
}
