{
 "cells": [
  {
   "cell_type": "code",
   "execution_count": 2,
   "metadata": {},
   "outputs": [],
   "source": [
    "from pymatgen.ext.matproj import MPRester\n",
    "from numpy import * \n",
    "from pymatgen.symmetry.analyzer import SpacegroupAnalyzer\n",
    "from pymatgen.analysis.diffraction import xrd\n",
    "from matplotlib import pyplot as plt\n",
    "from pymatgen.analysis.diffraction.core import AbstractDiffractionPatternCalculator\n",
    "\n",
    "with MPRester(\"73pliZvNbI25Rdqk\") as m:\n",
    "    structure = m.get_structure_by_material_id(\"mp-1023935\")\n",
    "    structure.to(filename=\"Te2Mo_xrd.cif\")"
   ]
  },
  {
   "cell_type": "code",
   "execution_count": 16,
   "metadata": {},
   "outputs": [
    {
     "name": "stdout",
     "output_type": "stream",
     "text": [
      "les 3 angles 2*θ associés au 3 premiers pics sont [ 5.0001329  10.00981771 15.03877183]\n",
      "les 3 intensités associés au 3 premiers pics sont [1.00000000e+02 7.67174990e+00 1.59258172e-02]\n",
      "\n",
      "Pic  1  : \n",
      "\n",
      "2*θ =  5.0 °\n",
      "Intensité =  100.0 %\n",
      "Indices hkl et multiplicité = [{'hkl': (0, 0, 0, 1), 'multiplicity': 2}]\n",
      "\n",
      "Pic  2  : \n",
      "\n",
      "2*θ =  10.01 °\n",
      "Intensité =  7.672 %\n",
      "Indices hkl et multiplicité = [{'hkl': (0, 0, 0, 2), 'multiplicity': 2}]\n",
      "\n",
      "Pic  3  : \n",
      "\n",
      "2*θ =  15.039 °\n",
      "Intensité =  0.016 %\n",
      "Indices hkl et multiplicité = [{'hkl': (0, 0, 0, 3), 'multiplicity': 2}]\n"
     ]
    }
   ],
   "source": [
    "st =  SpacegroupAnalyzer(structure).get_primitive_standard_structure()\n",
    "x = xrd.XRDCalculator(wavelength='CuKa')\n",
    "pattern = x.get_pattern(st, scaled=True, two_theta_range=None)\n",
    "picTheta = pattern.x[0:3]\n",
    "picInt = pattern.y[0:3]\n",
    "hkl = pattern.hkls[0:7]\n",
    "\n",
    "print(\"les 3 angles 2*\\u03B8 associés au 3 premiers pics sont\",picTheta)\n",
    "print(\"les 3 intensités associés au 3 premiers pics sont\",picInt)\n",
    "\n",
    "for i in range(len(picTheta)):\n",
    "    print(\"\")\n",
    "    print(\"Pic \",i+1,\" : \")\n",
    "    print(\"\")\n",
    "    print(\"2*\\u03B8 = \",round(picTheta[i],3),\"°\")\n",
    "    print(\"Intensité = \",round(picInt[i],3),\"%\")\n",
    "    print(\"Indices hkl et multiplicité =\",hkl[i])\n"
   ]
  },
  {
   "cell_type": "code",
   "execution_count": 17,
   "metadata": {},
   "outputs": [
    {
     "data": {
      "image/png": "[encoded data removed]",
      "text/plain": [
       "<Figure size 432x288 with 1 Axes>"
      ]
     },
     "metadata": {
      "needs_background": "light"
     },
     "output_type": "display_data"
    }
   ],
   "source": [
    "plt.figure()\n",
    "plt.bar(pattern.x,pattern.y)\n",
    "plt.title(\"Diffractogramme entier par rayon X Cu Ka\")\n",
    "plt.xlabel(\"2 $\\Theta$ (°)\")\n",
    "plt.ylabel(\"Intensité (échelonnée)\")\n",
    "plt.show()"
   ]
  },
  {
   "cell_type": "code",
   "execution_count": 5,
   "metadata": {},
   "outputs": [
    {
     "data": {
      "image/png": "[encoded data removed]",
      "text/plain": [
       "<Figure size 432x288 with 1 Axes>"
      ]
     },
     "metadata": {
      "needs_background": "light"
     },
     "output_type": "display_data"
    },
    {
     "name": "stdout",
     "output_type": "stream",
     "text": [
      "On observe que la valeur du 3ème pic est trop faible pour apparaitre clairement sur la figure.\n"
     ]
    }
   ],
   "source": [
    "plt.figure()\n",
    "plt.bar(picTheta,picInt)\n",
    "plt.title(\"3 premiers pics du diffractogramme par rayon X Cu Ka\")\n",
    "plt.xlabel(\"2 $\\Theta$ (°)\")\n",
    "plt.ylabel(\"Intensité (échelonnée)\")\n",
    "plt.show()\n",
    "print(\"On observe que la valeur du 3ème pic est trop faible pour apparaitre clairement sur la figure.\")"
   ]
  },
  {
   "cell_type": "code",
   "execution_count": null,
   "metadata": {},
   "outputs": [],
   "source": []
  }
 ],
 "metadata": {
  "kernelspec": {
   "display_name": "Python 3",
   "language": "python",
   "name": "python3"
  },
  "language_info": {
   "codemirror_mode": {
    "name": "ipython",
    "version": 3
   },
   "file_extension": ".py",
   "mimetype": "text/x-python",
   "name": "python",
   "nbconvert_exporter": "python",
   "pygments_lexer": "ipython3",
   "version": "3.6.8"
  }
 },
 "nbformat": 4,
 "nbformat_minor": 2
}
